{
 "cells": [
  {
   "cell_type": "markdown",
   "metadata": {
    "application/vnd.databricks.v1+cell": {
     "cellMetadata": {},
     "inputWidgets": {},
     "nuid": "833e84f0-ec5d-42d5-9cbe-f21b37b2dfed",
     "showTitle": false,
     "title": ""
    }
   },
   "source": [
    "## Loading the data into dataframes"
   ]
  },
  {
   "cell_type": "code",
   "execution_count": 0,
   "metadata": {
    "application/vnd.databricks.v1+cell": {
     "cellMetadata": {
      "byteLimit": 2048000,
      "rowLimit": 10000
     },
     "inputWidgets": {},
     "nuid": "237da7c0-8b08-4c57-90cb-1de663e5ccc3",
     "showTitle": false,
     "title": ""
    }
   },
   "outputs": [],
   "source": [
    "# Creating a spark session\n",
    "from pyspark.sql import SparkSession\n",
    "\n",
    "spark = (SparkSession\n",
    "         .builder\n",
    "         .appName(\"Table Loading\")\n",
    "         .getOrCreate())\n",
    "\n",
    "sc = spark.sparkContext"
   ]
  },
  {
   "cell_type": "markdown",
   "metadata": {
    "application/vnd.databricks.v1+cell": {
     "cellMetadata": {},
     "inputWidgets": {},
     "nuid": "fdccd6a6-7d75-44ee-b48e-422565dd2a46",
     "showTitle": false,
     "title": ""
    }
   },
   "source": [
    "#### Creating the `Posts` dataframe"
   ]
  },
  {
   "cell_type": "code",
   "execution_count": 0,
   "metadata": {
    "application/vnd.databricks.v1+cell": {
     "cellMetadata": {
      "byteLimit": 2048000,
      "rowLimit": 10000
     },
     "inputWidgets": {},
     "nuid": "4ce19abe-f206-48b6-964b-a95a2ecccc03",
     "showTitle": false,
     "title": ""
    }
   },
   "outputs": [],
   "source": [
    "display(\n",
    "    dbutils.fs.ls(\"/mnt/bd-project\")\n",
    ")"
   ]
  },
  {
   "cell_type": "code",
   "execution_count": 0,
   "metadata": {
    "application/vnd.databricks.v1+cell": {
     "cellMetadata": {
      "byteLimit": 2048000,
      "rowLimit": 10000
     },
     "inputWidgets": {},
     "nuid": "f2ab29ea-342d-4147-a1aa-05a34725ecb2",
     "showTitle": false,
     "title": ""
    }
   },
   "outputs": [],
   "source": [
    "# Creating the posts dataframe\n",
    "file_location = \"/mnt/bd-project/ML_Training/Posts/*\"\n",
    "\n",
    "posts = spark.read \\\n",
    "  .parquet(file_location)\n",
    "\n",
    "display(posts)"
   ]
  },
  {
   "cell_type": "markdown",
   "metadata": {
    "application/vnd.databricks.v1+cell": {
     "cellMetadata": {},
     "inputWidgets": {},
     "nuid": "0608422a-4d31-46b1-a13f-dc23b2b99539",
     "showTitle": false,
     "title": ""
    }
   },
   "source": [
    "#### Creating the `PostTypes` dataframe"
   ]
  },
  {
   "cell_type": "code",
   "execution_count": 0,
   "metadata": {
    "application/vnd.databricks.v1+cell": {
     "cellMetadata": {
      "byteLimit": 2048000,
      "rowLimit": 10000
     },
     "inputWidgets": {},
     "nuid": "72f1c15e-f803-46d2-9ade-09c8f7e68f31",
     "showTitle": false,
     "title": ""
    }
   },
   "outputs": [],
   "source": [
    "# Creating the schema for posttypes table\n",
    "from pyspark.sql.types import *\n",
    "\n",
    "PT_schema = StructType([\n",
    "    StructField(\"id\", IntegerType(), True),\n",
    "    StructField(\"Type\", StringType(), True)\n",
    "])"
   ]
  },
  {
   "cell_type": "code",
   "execution_count": 0,
   "metadata": {
    "application/vnd.databricks.v1+cell": {
     "cellMetadata": {
      "byteLimit": 2048000,
      "rowLimit": 10000
     },
     "inputWidgets": {},
     "nuid": "1488cedb-c8cf-4dd1-a5e6-505ffdc01551",
     "showTitle": false,
     "title": ""
    }
   },
   "outputs": [],
   "source": [
    "# Creating the posttypes dataframe\n",
    "file_location = \"/mnt/bd-project/ML_Training/PostTypes.txt\"\n",
    "\n",
    "postType = (spark.read\n",
    "  .option(\"header\", \"true\")\n",
    "  .option(\"sep\", \",\")\n",
    "  .schema(PT_schema)\n",
    "  .csv(file_location))\n",
    "\n",
    "display(postType)"
   ]
  },
  {
   "cell_type": "markdown",
   "metadata": {
    "application/vnd.databricks.v1+cell": {
     "cellMetadata": {},
     "inputWidgets": {},
     "nuid": "782abd78-6e09-4c0c-9360-498edc6bbe7d",
     "showTitle": false,
     "title": ""
    }
   },
   "source": [
    "#### Creating the `Users` dataframe"
   ]
  },
  {
   "cell_type": "code",
   "execution_count": 0,
   "metadata": {
    "application/vnd.databricks.v1+cell": {
     "cellMetadata": {
      "byteLimit": 2048000,
      "rowLimit": 10000
     },
     "inputWidgets": {},
     "nuid": "ed4ee3c0-eaf6-49b6-8c33-303ac4674f88",
     "showTitle": false,
     "title": ""
    }
   },
   "outputs": [],
   "source": [
    "# Creating the schema for the users table\n",
    "from pyspark.sql.types import *\n",
    "\n",
    "users_schema = StructType([\n",
    "    StructField(\"id\", IntegerType(), True),\n",
    "    StructField(\"Age\", IntegerType(), True),\n",
    "    StructField(\"CreationDate\", DateType(), True),\n",
    "    StructField(\"DisplayName\", StringType(), True),\n",
    "    StructField(\"DownVotes\", IntegerType(), True),\n",
    "    StructField(\"EmailHash\", StringType(), True),\n",
    "    StructField(\"Location\", StringType(), True),\n",
    "    StructField(\"Reputation\", IntegerType(), True),\n",
    "    StructField(\"UpVotes\", IntegerType(), True),\n",
    "    StructField(\"Views\", IntegerType(), True),\n",
    "    StructField(\"WebsiteUrl\", StringType(), True),\n",
    "    StructField(\"AccountId\", IntegerType(), True)\n",
    "])"
   ]
  },
  {
   "cell_type": "code",
   "execution_count": 0,
   "metadata": {
    "application/vnd.databricks.v1+cell": {
     "cellMetadata": {
      "byteLimit": 2048000,
      "rowLimit": 10000
     },
     "inputWidgets": {},
     "nuid": "9c846a81-0190-4c05-b430-d23d4cacd817",
     "showTitle": false,
     "title": ""
    }
   },
   "outputs": [],
   "source": [
    "# Creating the users dataframe\n",
    "file_location = \"/mnt/bd-project/ML_Training/users.csv\"\n",
    "\n",
    "users = (spark.read\n",
    "  .option(\"header\", \"true\")\n",
    "  .option(\"sep\", \",\")\n",
    "  .schema(users_schema)\n",
    "  .csv(file_location))\n",
    "\n",
    "display(users)"
   ]
  },
  {
   "cell_type": "markdown",
   "metadata": {
    "application/vnd.databricks.v1+cell": {
     "cellMetadata": {},
     "inputWidgets": {},
     "nuid": "d26b7253-283e-4d41-8628-d8200bd60952",
     "showTitle": false,
     "title": ""
    }
   },
   "source": [
    "#### Saving the dataframes for easy retrieval"
   ]
  },
  {
   "cell_type": "code",
   "execution_count": 0,
   "metadata": {
    "application/vnd.databricks.v1+cell": {
     "cellMetadata": {
      "byteLimit": 2048000,
      "rowLimit": 10000
     },
     "inputWidgets": {},
     "nuid": "301e8cef-8c14-490c-b8a6-237776ec7808",
     "showTitle": false,
     "title": ""
    }
   },
   "outputs": [],
   "source": [
    "# Save the 3 tables to databricks local file system\n",
    "posts.write.parquet(\"/tmp/project/posts\")\n",
    "postType.write.parquet(\"/tmp/project/PostType\")\n",
    "users.write.parquet(\"/tmp/project/user\")"
   ]
  },
  {
   "cell_type": "code",
   "execution_count": 0,
   "metadata": {
    "application/vnd.databricks.v1+cell": {
     "cellMetadata": {
      "byteLimit": 2048000,
      "rowLimit": 10000
     },
     "inputWidgets": {},
     "nuid": "b2966db2-11ef-4bed-a91e-da3bc3a1cde6",
     "showTitle": false,
     "title": ""
    }
   },
   "outputs": [],
   "source": [
    "# review the local file system\n",
    "display(dbutils.fs.ls(\"/tmp/project/\"))"
   ]
  }
 ],
 "metadata": {
  "application/vnd.databricks.v1+notebook": {
   "dashboards": [],
   "environmentMetadata": null,
   "language": "python",
   "notebookMetadata": {
    "mostRecentlyExecutedCommandWithImplicitDF": {
     "commandId": -1,
     "dataframes": [
      "_sqldf"
     ]
    },
    "pythonIndentUnit": 4
   },
   "notebookName": "2_Datasets_Loading",
   "widgets": {}
  },
  "kernelspec": {
   "display_name": "Python 3 (ipykernel)",
   "language": "python",
   "name": "python3"
  },
  "language_info": {
   "codemirror_mode": {
    "name": "ipython",
    "version": 3
   },
   "file_extension": ".py",
   "mimetype": "text/x-python",
   "name": "python",
   "nbconvert_exporter": "python",
   "pygments_lexer": "ipython3",
   "version": "3.10.9"
  }
 },
 "nbformat": 4,
 "nbformat_minor": 0
}
